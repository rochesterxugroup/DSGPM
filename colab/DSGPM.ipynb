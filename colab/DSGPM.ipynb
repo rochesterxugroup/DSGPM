{
  "nbformat": 4,
  "nbformat_minor": 0,
  "metadata": {
    "accelerator": "GPU",
    "colab": {
      "name": "DSGPM.ipynb",
      "provenance": [],
      "collapsed_sections": []
    },
    "kernelspec": {
      "display_name": "Python 3",
      "name": "python3"
    },
    "language_info": {
      "name": "python"
    },
    "widgets": {
      "application/vnd.jupyter.widget-state+json": {
        "137b05370a0e4dd1b4d13d46d0b2f12d": {
          "model_module": "@jupyter-widgets/controls",
          "model_name": "HBoxModel",
          "state": {
            "_view_name": "HBoxView",
            "_dom_classes": [],
            "_model_name": "HBoxModel",
            "_view_module": "@jupyter-widgets/controls",
            "_model_module_version": "1.5.0",
            "_view_count": null,
            "_view_module_version": "1.5.0",
            "box_style": "",
            "layout": "IPY_MODEL_9b634908c88a41148d32f10bf90451b6",
            "_model_module": "@jupyter-widgets/controls",
            "children": [
              "IPY_MODEL_48769466dc054c5093f8a8eeee826952",
              "IPY_MODEL_168660de8303451cbe7974c0a80f5143"
            ]
          }
        },
        "9b634908c88a41148d32f10bf90451b6": {
          "model_module": "@jupyter-widgets/base",
          "model_name": "LayoutModel",
          "state": {
            "_view_name": "LayoutView",
            "grid_template_rows": null,
            "right": null,
            "justify_content": null,
            "_view_module": "@jupyter-widgets/base",
            "overflow": null,
            "_model_module_version": "1.2.0",
            "_view_count": null,
            "flex_flow": null,
            "width": null,
            "min_width": null,
            "border": null,
            "align_items": null,
            "bottom": null,
            "_model_module": "@jupyter-widgets/base",
            "top": null,
            "grid_column": null,
            "overflow_y": null,
            "overflow_x": null,
            "grid_auto_flow": null,
            "grid_area": null,
            "grid_template_columns": null,
            "flex": null,
            "_model_name": "LayoutModel",
            "justify_items": null,
            "grid_row": null,
            "max_height": null,
            "align_content": null,
            "visibility": null,
            "align_self": null,
            "height": null,
            "min_height": null,
            "padding": null,
            "grid_auto_rows": null,
            "grid_gap": null,
            "max_width": null,
            "order": null,
            "_view_module_version": "1.2.0",
            "grid_template_areas": null,
            "object_position": null,
            "object_fit": null,
            "grid_auto_columns": null,
            "margin": null,
            "display": null,
            "left": null
          }
        },
        "48769466dc054c5093f8a8eeee826952": {
          "model_module": "@jupyter-widgets/controls",
          "model_name": "FloatProgressModel",
          "state": {
            "_view_name": "ProgressView",
            "style": "IPY_MODEL_6ad5ab3be4544da78ee9bf8ffda1948b",
            "_dom_classes": [],
            "description": "100%",
            "_model_name": "FloatProgressModel",
            "bar_style": "success",
            "max": 100,
            "_view_module": "@jupyter-widgets/controls",
            "_model_module_version": "1.5.0",
            "value": 100,
            "_view_count": null,
            "_view_module_version": "1.5.0",
            "orientation": "horizontal",
            "min": 0,
            "description_tooltip": null,
            "_model_module": "@jupyter-widgets/controls",
            "layout": "IPY_MODEL_8cd8be1fffd44ac0a1a981a13c05b646"
          }
        },
        "168660de8303451cbe7974c0a80f5143": {
          "model_module": "@jupyter-widgets/controls",
          "model_name": "HTMLModel",
          "state": {
            "_view_name": "HTMLView",
            "style": "IPY_MODEL_fba5a4e39c7d49e9bab3fe3daec67c90",
            "_dom_classes": [],
            "description": "",
            "_model_name": "HTMLModel",
            "placeholder": "​",
            "_view_module": "@jupyter-widgets/controls",
            "_model_module_version": "1.5.0",
            "value": " 100/100 [elapsed: 02:52 remaining: 00:00]",
            "_view_count": null,
            "_view_module_version": "1.5.0",
            "description_tooltip": null,
            "_model_module": "@jupyter-widgets/controls",
            "layout": "IPY_MODEL_c307c92c16974040bcc23b627e84796f"
          }
        },
        "6ad5ab3be4544da78ee9bf8ffda1948b": {
          "model_module": "@jupyter-widgets/controls",
          "model_name": "ProgressStyleModel",
          "state": {
            "_view_name": "StyleView",
            "_model_name": "ProgressStyleModel",
            "description_width": "initial",
            "_view_module": "@jupyter-widgets/base",
            "_model_module_version": "1.5.0",
            "_view_count": null,
            "_view_module_version": "1.2.0",
            "bar_color": null,
            "_model_module": "@jupyter-widgets/controls"
          }
        },
        "8cd8be1fffd44ac0a1a981a13c05b646": {
          "model_module": "@jupyter-widgets/base",
          "model_name": "LayoutModel",
          "state": {
            "_view_name": "LayoutView",
            "grid_template_rows": null,
            "right": null,
            "justify_content": null,
            "_view_module": "@jupyter-widgets/base",
            "overflow": null,
            "_model_module_version": "1.2.0",
            "_view_count": null,
            "flex_flow": null,
            "width": null,
            "min_width": null,
            "border": null,
            "align_items": null,
            "bottom": null,
            "_model_module": "@jupyter-widgets/base",
            "top": null,
            "grid_column": null,
            "overflow_y": null,
            "overflow_x": null,
            "grid_auto_flow": null,
            "grid_area": null,
            "grid_template_columns": null,
            "flex": null,
            "_model_name": "LayoutModel",
            "justify_items": null,
            "grid_row": null,
            "max_height": null,
            "align_content": null,
            "visibility": null,
            "align_self": null,
            "height": null,
            "min_height": null,
            "padding": null,
            "grid_auto_rows": null,
            "grid_gap": null,
            "max_width": null,
            "order": null,
            "_view_module_version": "1.2.0",
            "grid_template_areas": null,
            "object_position": null,
            "object_fit": null,
            "grid_auto_columns": null,
            "margin": null,
            "display": null,
            "left": null
          }
        },
        "fba5a4e39c7d49e9bab3fe3daec67c90": {
          "model_module": "@jupyter-widgets/controls",
          "model_name": "DescriptionStyleModel",
          "state": {
            "_view_name": "StyleView",
            "_model_name": "DescriptionStyleModel",
            "description_width": "",
            "_view_module": "@jupyter-widgets/base",
            "_model_module_version": "1.5.0",
            "_view_count": null,
            "_view_module_version": "1.2.0",
            "_model_module": "@jupyter-widgets/controls"
          }
        },
        "c307c92c16974040bcc23b627e84796f": {
          "model_module": "@jupyter-widgets/base",
          "model_name": "LayoutModel",
          "state": {
            "_view_name": "LayoutView",
            "grid_template_rows": null,
            "right": null,
            "justify_content": null,
            "_view_module": "@jupyter-widgets/base",
            "overflow": null,
            "_model_module_version": "1.2.0",
            "_view_count": null,
            "flex_flow": null,
            "width": null,
            "min_width": null,
            "border": null,
            "align_items": null,
            "bottom": null,
            "_model_module": "@jupyter-widgets/base",
            "top": null,
            "grid_column": null,
            "overflow_y": null,
            "overflow_x": null,
            "grid_auto_flow": null,
            "grid_area": null,
            "grid_template_columns": null,
            "flex": null,
            "_model_name": "LayoutModel",
            "justify_items": null,
            "grid_row": null,
            "max_height": null,
            "align_content": null,
            "visibility": null,
            "align_self": null,
            "height": null,
            "min_height": null,
            "padding": null,
            "grid_auto_rows": null,
            "grid_gap": null,
            "max_width": null,
            "order": null,
            "_view_module_version": "1.2.0",
            "grid_template_areas": null,
            "object_position": null,
            "object_fit": null,
            "grid_auto_columns": null,
            "margin": null,
            "display": null,
            "left": null
          }
        }
      }
    }
  },
  "cells": [
    {
      "cell_type": "markdown",
      "metadata": {
        "id": "BukRVju1vaOq"
      },
      "source": [
        "# Deep Supervised Graph Partitioning Model (DSGPM)\n",
        "\n",
        "This Collab illustrates how to use pre-trained DSGPM model to predict CG mappings. DSGPM is a graph neural network graph partitioning model that can predict CG mappings of small to arbitrarily large molecules. \n",
        "\n",
        "## Citation\n",
        "\n",
        "\n",
        "```\n",
        "@Article{D0SC02458A,\n",
        "author =\"Li, Zhiheng and Wellawatte, Geemi P. and Chakraborty, Maghesree and Gandhi, Heta A. and Xu, Chenliang and White, Andrew D.\",\n",
        "title  =\"Graph neural network based coarse-grained mapping prediction\",\n",
        "journal  =\"Chem. Sci.\",\n",
        "year  =\"2020\",\n",
        "pages  =\"-\",\n",
        "publisher  =\"The Royal Society of Chemistry\",\n",
        "doi  =\"10.1039/D0SC02458A\",\n",
        "url  =\"http://dx.doi.org/10.1039/D0SC02458A\",\n",
        "}\n",
        "\n",
        "```\n",
        "\n",
        "\n"
      ]
    },
    {
      "cell_type": "markdown",
      "metadata": {
        "id": "ZMv0BUGYwfLq"
      },
      "source": [
        "## Setup the conda environment and install dependencies"
      ]
    },
    {
      "cell_type": "code",
      "metadata": {
        "colab": {
          "base_uri": "https://localhost:8080/",
          "height": 67,
          "referenced_widgets": [
            "137b05370a0e4dd1b4d13d46d0b2f12d",
            "9b634908c88a41148d32f10bf90451b6",
            "48769466dc054c5093f8a8eeee826952",
            "168660de8303451cbe7974c0a80f5143",
            "6ad5ab3be4544da78ee9bf8ffda1948b",
            "8cd8be1fffd44ac0a1a981a13c05b646",
            "fba5a4e39c7d49e9bab3fe3daec67c90",
            "c307c92c16974040bcc23b627e84796f"
          ]
        },
        "id": "0H3gTJ2awmUv",
        "cellView": "form",
        "outputId": "5eb6463b-f830-49a8-e3cb-7f38614ca827"
      },
      "source": [
        "#@title\n",
        "from IPython.utils import io\n",
        "import os\n",
        "import subprocess\n",
        "import tqdm.notebook\n",
        "\n",
        "TQDM_BAR_FORMAT = '{l_bar}{bar}| {n_fmt}/{total_fmt} [elapsed: {elapsed} remaining: {remaining}]'\n",
        "\n",
        "try:\n",
        "  with tqdm.notebook.tqdm(total=100, bar_format=TQDM_BAR_FORMAT) as pbar:\n",
        "    with io.capture_output() as captured:\n",
        "\n",
        "      %shell rm -rf /opt/conda\n",
        "      %shell wget -q -P /tmp \\\n",
        "        https://repo.anaconda.com/miniconda/Miniconda3-latest-Linux-x86_64.sh \\\n",
        "          && bash /tmp/Miniconda3-latest-Linux-x86_64.sh -b -p /opt/conda \\\n",
        "          && rm /tmp/Miniconda3-latest-Linux-x86_64.sh\n",
        "      pbar.update(10)\n",
        "\n",
        "      PATH=%env PATH\n",
        "      %env PATH=/opt/conda/bin:{PATH}\n",
        "      %shell conda update -qy conda && conda install -qy -c conda-forge python=3.7\n",
        "      pbar.update(15)\n",
        "      #%shell conda install -qy -c pytorch cudatoolkit=10.2 \n",
        "      %shell python -m pip install rdkit-pypi\n",
        "      pbar.update(15)\n",
        "      #%shell conda install -qy -c conda-forge rdkit\n",
        "      %shell git clone https://github.com/rochesterxugroup/DSGPM.git\n",
        "      pbar.update(10)\n",
        "      %shell python -m pip install scikit-learn~=0.21.3 numpy~=1.19.1 scipy~=1.3.1  networkx~=2.4 tqdm~=4.47.0\n",
        "      pbar.update(10)\n",
        "      %shell conda install -qy cudatoolkit=10.1\n",
        "      %shell python -m pip install torch==1.8.0+cu101 torchvision==0.9.0+cu101 -f https://download.pytorch.org/whl/torch_stable.html\n",
        "      %shell pip install torch-scatter torch-sparse torch-cluster torch-spline-conv torch-geometric -f https://pytorch-geometric.com/whl/torch-1.8.0+cu101.html \n",
        "      pbar.update(40)\n",
        "      \n",
        "except subprocess.CalledProcessError:\n",
        "  print(captured)\n",
        "  raise"
      ],
      "execution_count": null,
      "outputs": [
        {
          "output_type": "display_data",
          "data": {
            "application/vnd.jupyter.widget-view+json": {
              "model_id": "137b05370a0e4dd1b4d13d46d0b2f12d",
              "version_minor": 0,
              "version_major": 2
            },
            "text/plain": [
              "HBox(children=(FloatProgress(value=0.0), HTML(value='')))"
            ]
          },
          "metadata": {
            "tags": []
          }
        },
        {
          "output_type": "stream",
          "text": [
            "\n"
          ],
          "name": "stdout"
        }
      ]
    },
    {
      "cell_type": "markdown",
      "metadata": {
        "id": "1Qplm1-xxEFd"
      },
      "source": [
        "## Note:\n",
        "\n",
        "In case you come across torch-geometry installation errors, it could be due to version mismatch errors. Relevant packages must be installed to resolve such version mismactches. We can do this by printing out the torch and cuda versions prior to instalation. \n",
        "\n",
        "For more details please visit PyTorch geometric [documentation!](https://pytorch-geometric.readthedocs.io/en/latest/notes/installation.html)"
      ]
    },
    {
      "cell_type": "markdown",
      "metadata": {
        "id": "EW0RICg1ytOB"
      },
      "source": [
        "# Using DSGPM to generate CG mappings\n",
        "\n",
        "In this example let's use SMILES strings as inputs to DSGPM. Save one or many SMILES string in text file in your local computer and upload here. If you wish to generate mappings for arbitrarily large molecules, you can use PDB format. Please refer to our [documentation](https://github.com/rochesterxugroup/DSGPM#readme) on how to work with PDB inputs. \n",
        "\n",
        "\n"
      ]
    },
    {
      "cell_type": "code",
      "metadata": {
        "id": "eea_5YroFfUN",
        "cellView": "form"
      },
      "source": [
        "#@title Enter your SMILES string here. `bead_num` refers to the expected number of CG beads.\n",
        "smiles = \"CC1=CC=C(N=C1)C1=CC=C(C)C=N1\" #@param {type:\"string\"}\n",
        "bead_num = 5 #@param {type:\"integer\"}\n",
        "\n",
        "\n",
        "with open('smiles.txt', 'w') as writefile:\n",
        "    writefile.write(smiles)\n",
        "\n",
        "# Set input and output paths\n",
        "smiles_path = os.path.join(os.getcwd(),'smiles.txt')\n",
        "out_path = os.getcwd()"
      ],
      "execution_count": null,
      "outputs": []
    },
    {
      "cell_type": "markdown",
      "metadata": {
        "id": "aY690DBt9Ozx"
      },
      "source": [
        "# There are two steps associated with predicting a CG mapping using DSGPM\n",
        "\n",
        "\n",
        "\n",
        "1.   Create a molecular graph using the input SMILES\n",
        "2.   Partitioning the molecular graph to predict the mapping\n",
        "\n"
      ]
    },
    {
      "cell_type": "code",
      "metadata": {
        "colab": {
          "base_uri": "https://localhost:8080/"
        },
        "id": "Y6yr7kQIXuVw",
        "cellView": "form",
        "outputId": "59b84052-5fef-4cd9-a9de-bef724ae90a1"
      },
      "source": [
        "#@title\n",
        "%shell python /content/DSGPM/generate_input_files/convert_to_json.py --smiles $smiles_path\n",
        "%shell python /content/DSGPM/inference.py --pretrained_ckpt /content/DSGPM/model/DSGPM_trained.pth  --data_root /content/mol_graph/ --json_output_dir $out_path --num_cg_beads $bead_num --no_automorphism "
      ],
      "execution_count": null,
      "outputs": [
        {
          "output_type": "stream",
          "text": [
            "CC1=CC=C(N=C1)C1=CC=C(C)C=N1\n",
            "conversion complete\n",
            "100% 1/1 [00:00<00:00, 61.76it/s]\n"
          ],
          "name": "stdout"
        },
        {
          "output_type": "execute_result",
          "data": {
            "text/plain": [
              ""
            ]
          },
          "metadata": {
            "tags": []
          },
          "execution_count": 8
        }
      ]
    },
    {
      "cell_type": "markdown",
      "metadata": {
        "id": "niPs9WXSAHiw"
      },
      "source": [
        "# Let's take a look at the output file now!"
      ]
    },
    {
      "cell_type": "code",
      "metadata": {
        "colab": {
          "base_uri": "https://localhost:8080/",
          "height": 220
        },
        "id": "tyT8RyqLYajI",
        "cellView": "form",
        "outputId": "5e6e52c1-595e-4833-980b-84cd75ad908e"
      },
      "source": [
        "#@title\n",
        "import sys\n",
        "sys.path.append('/opt/conda/lib/python3.7/site-packages')\n",
        "from rdkit import Chem\n",
        "from rdkit.Chem.Draw import IPythonConsole\n",
        "from IPython.display import SVG\n",
        "from rdkit.Chem import rdDepictor\n",
        "from rdkit.Chem.Draw import rdMolDraw2D\n",
        "from rdkit.Chem import AllChem\n",
        "import json\n",
        "import seaborn as sns\n",
        "import random\n",
        "import re\n",
        "\n",
        "outname = '/content/dsgpm/{}_cg_{}.json'.format(re.sub('[^A-Za-z0-9]+', '', smiles),bead_num)\n",
        "\n",
        "cl1=list(sns.hls_palette(20, h=.5))\n",
        "cl2=list(sns.hls_palette(20, s=.4,h=.5))\n",
        "\n",
        "with open(outname,'r') as myfile:\n",
        "  obj=json.load(myfile)\n",
        "s=smiles\n",
        "m = Chem.MolFromSmiles(s)\n",
        "rdDepictor.Compute2DCoords(m)\n",
        "aa=[]\n",
        "ele=[]\n",
        "atms={}\n",
        "for nodes in obj['nodes']:\n",
        "    j=int(nodes['cg'])\n",
        "    k=int(nodes['id'])\n",
        "    z=str(nodes['element'])\n",
        "    ele.append(z)\n",
        "    aa.append(k)\n",
        "    value={k:cl1[j]}\n",
        "    atms.update(value)\n",
        "bl=[]\n",
        "edges={}\n",
        "a=(obj['nodes'])\n",
        "for g in range(m.GetNumBonds()):\n",
        "    begin=m.GetBonds()[g].GetBeginAtomIdx()\n",
        "    end=m.GetBonds()[g].GetEndAtomIdx()\n",
        "    if a[begin]['cg']==a[end]['cg']:\n",
        "        bl.append(g)\n",
        "        bond_value={g:cl2[a[begin]['cg']]}\n",
        "        edges.update(bond_value)\n",
        "drawer = rdMolDraw2D.MolDraw2DSVG(300,200)\n",
        "drawer.DrawMolecule(m,highlightAtoms=aa,highlightBonds=bl,highlightAtomColors=atms,highlightBondColors=edges)\n",
        "drawer.FinishDrawing()\n",
        "svg = drawer.GetDrawingText().replace('svg:','')\n",
        "\n",
        "#================write to files============================\n",
        "svg_path=os.path.join('/content/dsgpm/',outname.replace(\".json\", \".svg\"))\n",
        "svg_file= open(svg_path, \"wt\")\n",
        "svg_file.write(svg)\n",
        "svg_file.close()\n",
        "\n",
        "from IPython.core.display import SVG\n",
        "SVG(filename=svg_path)\n",
        " "
      ],
      "execution_count": null,
      "outputs": [
        {
          "output_type": "execute_result",
          "data": {
            "text/plain": [
              "<IPython.core.display.SVG object>"
            ],
            "image/svg+xml": "<svg baseProfile=\"full\" height=\"200px\" version=\"1.1\" viewBox=\"0 0 300 200\" width=\"300px\" xml:space=\"preserve\" xmlns=\"http://www.w3.org/2000/svg\" xmlns:rdkit=\"http://www.rdkit.org/xml\" xmlns:xlink=\"http://www.w3.org/1999/xlink\">\n<!-- END OF HEADER -->\n<rect height=\"200\" style=\"opacity:1.0;fill:#FFFFFF;stroke:none\" width=\"300\" x=\"0\" y=\"0\"> </rect>\n<path d=\"M 278.993,100 L 242.138,100\" style=\"fill:none;fill-rule:evenodd;stroke:#70C1C1;stroke-width:7.9px;stroke-linecap:butt;stroke-linejoin:miter;stroke-opacity:1\"/>\n<path d=\"M 242.138,100 L 223.71,131.917\" style=\"fill:none;fill-rule:evenodd;stroke:#70C1C1;stroke-width:7.9px;stroke-linecap:butt;stroke-linejoin:miter;stroke-opacity:1\"/>\n<path d=\"M 186.855,131.917 L 168.428,100\" style=\"fill:none;fill-rule:evenodd;stroke:#70A9C1;stroke-width:7.9px;stroke-linecap:butt;stroke-linejoin:miter;stroke-opacity:1\"/>\n<path d=\"M 168.428,100 L 131.572,100\" style=\"fill:none;fill-rule:evenodd;stroke:#70A9C1;stroke-width:7.9px;stroke-linecap:butt;stroke-linejoin:miter;stroke-opacity:1\"/>\n<path d=\"M 186.855,68.0826 L 223.71,68.0826\" style=\"fill:none;fill-rule:evenodd;stroke:#7090C1;stroke-width:7.9px;stroke-linecap:butt;stroke-linejoin:miter;stroke-opacity:1\"/>\n<path d=\"M 131.572,100 L 113.145,68.0826\" style=\"fill:none;fill-rule:evenodd;stroke:#70A9C1;stroke-width:7.9px;stroke-linecap:butt;stroke-linejoin:miter;stroke-opacity:1\"/>\n<path d=\"M 76.2899,68.0826 L 57.8624,100\" style=\"fill:none;fill-rule:evenodd;stroke:#7078C1;stroke-width:7.9px;stroke-linecap:butt;stroke-linejoin:miter;stroke-opacity:1\"/>\n<path d=\"M 57.8624,100 L 21.0074,100\" style=\"fill:none;fill-rule:evenodd;stroke:#7078C1;stroke-width:7.9px;stroke-linecap:butt;stroke-linejoin:miter;stroke-opacity:1\"/>\n<path d=\"M 76.2899,131.917 L 113.145,131.917\" style=\"fill:none;fill-rule:evenodd;stroke:#8070C1;stroke-width:7.9px;stroke-linecap:butt;stroke-linejoin:miter;stroke-opacity:1\"/>\n<ellipse cx=\"278.993\" cy=\"100\" rx=\"7.37101\" ry=\"7.37101\" style=\"fill:#56DBDB;fill-rule:evenodd;stroke:#56DBDB;stroke-width:1.0px;stroke-linecap:butt;stroke-linejoin:miter;stroke-opacity:1\"/>\n<ellipse cx=\"242.138\" cy=\"100\" rx=\"7.37101\" ry=\"7.37101\" style=\"fill:#56DBDB;fill-rule:evenodd;stroke:#56DBDB;stroke-width:1.0px;stroke-linecap:butt;stroke-linejoin:miter;stroke-opacity:1\"/>\n<ellipse cx=\"223.71\" cy=\"131.917\" rx=\"7.37101\" ry=\"7.37101\" style=\"fill:#56DBDB;fill-rule:evenodd;stroke:#56DBDB;stroke-width:1.0px;stroke-linecap:butt;stroke-linejoin:miter;stroke-opacity:1\"/>\n<ellipse cx=\"186.855\" cy=\"131.917\" rx=\"7.37101\" ry=\"7.37101\" style=\"fill:#56B3DB;fill-rule:evenodd;stroke:#56B3DB;stroke-width:1.0px;stroke-linecap:butt;stroke-linejoin:miter;stroke-opacity:1\"/>\n<ellipse cx=\"168.428\" cy=\"100\" rx=\"7.37101\" ry=\"7.37101\" style=\"fill:#56B3DB;fill-rule:evenodd;stroke:#56B3DB;stroke-width:1.0px;stroke-linecap:butt;stroke-linejoin:miter;stroke-opacity:1\"/>\n<ellipse cx=\"186.855\" cy=\"68.0826\" rx=\"7.37101\" ry=\"7.38032\" style=\"fill:#568BDB;fill-rule:evenodd;stroke:#568BDB;stroke-width:1.0px;stroke-linecap:butt;stroke-linejoin:miter;stroke-opacity:1\"/>\n<ellipse cx=\"223.71\" cy=\"68.0826\" rx=\"7.37101\" ry=\"7.37101\" style=\"fill:#568BDB;fill-rule:evenodd;stroke:#568BDB;stroke-width:1.0px;stroke-linecap:butt;stroke-linejoin:miter;stroke-opacity:1\"/>\n<ellipse cx=\"131.572\" cy=\"100\" rx=\"7.37101\" ry=\"7.37101\" style=\"fill:#56B3DB;fill-rule:evenodd;stroke:#56B3DB;stroke-width:1.0px;stroke-linecap:butt;stroke-linejoin:miter;stroke-opacity:1\"/>\n<ellipse cx=\"113.145\" cy=\"68.0826\" rx=\"7.37101\" ry=\"7.37101\" style=\"fill:#56B3DB;fill-rule:evenodd;stroke:#56B3DB;stroke-width:1.0px;stroke-linecap:butt;stroke-linejoin:miter;stroke-opacity:1\"/>\n<ellipse cx=\"76.2899\" cy=\"68.0826\" rx=\"7.37101\" ry=\"7.37101\" style=\"fill:#5663DB;fill-rule:evenodd;stroke:#5663DB;stroke-width:1.0px;stroke-linecap:butt;stroke-linejoin:miter;stroke-opacity:1\"/>\n<ellipse cx=\"57.8624\" cy=\"100\" rx=\"7.37101\" ry=\"7.37101\" style=\"fill:#5663DB;fill-rule:evenodd;stroke:#5663DB;stroke-width:1.0px;stroke-linecap:butt;stroke-linejoin:miter;stroke-opacity:1\"/>\n<ellipse cx=\"21.0074\" cy=\"100\" rx=\"7.37101\" ry=\"7.37101\" style=\"fill:#5663DB;fill-rule:evenodd;stroke:#5663DB;stroke-width:1.0px;stroke-linecap:butt;stroke-linejoin:miter;stroke-opacity:1\"/>\n<ellipse cx=\"76.2899\" cy=\"131.917\" rx=\"7.37101\" ry=\"7.37101\" style=\"fill:#7156DB;fill-rule:evenodd;stroke:#7156DB;stroke-width:1.0px;stroke-linecap:butt;stroke-linejoin:miter;stroke-opacity:1\"/>\n<ellipse cx=\"113.145\" cy=\"131.917\" rx=\"7.37101\" ry=\"7.38032\" style=\"fill:#7156DB;fill-rule:evenodd;stroke:#7156DB;stroke-width:1.0px;stroke-linecap:butt;stroke-linejoin:miter;stroke-opacity:1\"/>\n<path class=\"bond-0 atom-0 atom-1\" d=\"M 278.993,100 L 242.138,100\" style=\"fill:none;fill-rule:evenodd;stroke:#000000;stroke-width:2.0px;stroke-linecap:butt;stroke-linejoin:miter;stroke-opacity:1\"/>\n<path class=\"bond-1 atom-1 atom-2\" d=\"M 242.138,100 L 223.71,131.917\" style=\"fill:none;fill-rule:evenodd;stroke:#000000;stroke-width:2.0px;stroke-linecap:butt;stroke-linejoin:miter;stroke-opacity:1\"/>\n<path class=\"bond-1 atom-1 atom-2\" d=\"M 232.99,101.102 L 220.091,123.444\" style=\"fill:none;fill-rule:evenodd;stroke:#000000;stroke-width:2.0px;stroke-linecap:butt;stroke-linejoin:miter;stroke-opacity:1\"/>\n<path class=\"bond-13 atom-6 atom-1\" d=\"M 223.71,68.0826 L 242.138,100\" style=\"fill:none;fill-rule:evenodd;stroke:#000000;stroke-width:2.0px;stroke-linecap:butt;stroke-linejoin:miter;stroke-opacity:1\"/>\n<path class=\"bond-2 atom-2 atom-3\" d=\"M 223.71,131.917 L 186.855,131.917\" style=\"fill:none;fill-rule:evenodd;stroke:#000000;stroke-width:2.0px;stroke-linecap:butt;stroke-linejoin:miter;stroke-opacity:1\"/>\n<path class=\"bond-3 atom-3 atom-4\" d=\"M 186.855,131.917 L 168.428,100\" style=\"fill:none;fill-rule:evenodd;stroke:#000000;stroke-width:2.0px;stroke-linecap:butt;stroke-linejoin:miter;stroke-opacity:1\"/>\n<path class=\"bond-3 atom-3 atom-4\" d=\"M 190.474,123.444 L 177.575,101.102\" style=\"fill:none;fill-rule:evenodd;stroke:#000000;stroke-width:2.0px;stroke-linecap:butt;stroke-linejoin:miter;stroke-opacity:1\"/>\n<path class=\"bond-4 atom-4 atom-5\" d=\"M 168.428,100 L 175.869,87.1113\" style=\"fill:none;fill-rule:evenodd;stroke:#000000;stroke-width:2.0px;stroke-linecap:butt;stroke-linejoin:miter;stroke-opacity:1\"/>\n<path class=\"bond-4 atom-4 atom-5\" d=\"M 175.869,87.1113 L 183.31,74.2227\" style=\"fill:none;fill-rule:evenodd;stroke:#0000FF;stroke-width:2.0px;stroke-linecap:butt;stroke-linejoin:miter;stroke-opacity:1\"/>\n<path class=\"bond-6 atom-4 atom-7\" d=\"M 168.428,100 L 131.572,100\" style=\"fill:none;fill-rule:evenodd;stroke:#000000;stroke-width:2.0px;stroke-linecap:butt;stroke-linejoin:miter;stroke-opacity:1\"/>\n<path class=\"bond-5 atom-5 atom-6\" d=\"M 191.735,68.0826 L 207.722,68.0826\" style=\"fill:none;fill-rule:evenodd;stroke:#0000FF;stroke-width:2.0px;stroke-linecap:butt;stroke-linejoin:miter;stroke-opacity:1\"/>\n<path class=\"bond-5 atom-5 atom-6\" d=\"M 207.722,68.0826 L 223.71,68.0826\" style=\"fill:none;fill-rule:evenodd;stroke:#000000;stroke-width:2.0px;stroke-linecap:butt;stroke-linejoin:miter;stroke-opacity:1\"/>\n<path class=\"bond-5 atom-5 atom-6\" d=\"M 196.531,75.4536 L 207.722,75.4536\" style=\"fill:none;fill-rule:evenodd;stroke:#0000FF;stroke-width:2.0px;stroke-linecap:butt;stroke-linejoin:miter;stroke-opacity:1\"/>\n<path class=\"bond-5 atom-5 atom-6\" d=\"M 207.722,75.4536 L 218.914,75.4536\" style=\"fill:none;fill-rule:evenodd;stroke:#000000;stroke-width:2.0px;stroke-linecap:butt;stroke-linejoin:miter;stroke-opacity:1\"/>\n<path class=\"bond-7 atom-7 atom-8\" d=\"M 131.572,100 L 113.145,68.0826\" style=\"fill:none;fill-rule:evenodd;stroke:#000000;stroke-width:2.0px;stroke-linecap:butt;stroke-linejoin:miter;stroke-opacity:1\"/>\n<path class=\"bond-7 atom-7 atom-8\" d=\"M 122.425,98.8979 L 109.526,76.5557\" style=\"fill:none;fill-rule:evenodd;stroke:#000000;stroke-width:2.0px;stroke-linecap:butt;stroke-linejoin:miter;stroke-opacity:1\"/>\n<path class=\"bond-14 atom-13 atom-7\" d=\"M 116.69,125.777 L 124.131,112.889\" style=\"fill:none;fill-rule:evenodd;stroke:#0000FF;stroke-width:2.0px;stroke-linecap:butt;stroke-linejoin:miter;stroke-opacity:1\"/>\n<path class=\"bond-14 atom-13 atom-7\" d=\"M 124.131,112.889 L 131.572,100\" style=\"fill:none;fill-rule:evenodd;stroke:#000000;stroke-width:2.0px;stroke-linecap:butt;stroke-linejoin:miter;stroke-opacity:1\"/>\n<path class=\"bond-8 atom-8 atom-9\" d=\"M 113.145,68.0826 L 76.2899,68.0826\" style=\"fill:none;fill-rule:evenodd;stroke:#000000;stroke-width:2.0px;stroke-linecap:butt;stroke-linejoin:miter;stroke-opacity:1\"/>\n<path class=\"bond-9 atom-9 atom-10\" d=\"M 76.2899,68.0826 L 57.8624,100\" style=\"fill:none;fill-rule:evenodd;stroke:#000000;stroke-width:2.0px;stroke-linecap:butt;stroke-linejoin:miter;stroke-opacity:1\"/>\n<path class=\"bond-9 atom-9 atom-10\" d=\"M 79.9093,76.5557 L 67.01,98.8979\" style=\"fill:none;fill-rule:evenodd;stroke:#000000;stroke-width:2.0px;stroke-linecap:butt;stroke-linejoin:miter;stroke-opacity:1\"/>\n<path class=\"bond-10 atom-10 atom-11\" d=\"M 57.8624,100 L 21.0074,100\" style=\"fill:none;fill-rule:evenodd;stroke:#000000;stroke-width:2.0px;stroke-linecap:butt;stroke-linejoin:miter;stroke-opacity:1\"/>\n<path class=\"bond-11 atom-10 atom-12\" d=\"M 57.8624,100 L 76.2899,131.917\" style=\"fill:none;fill-rule:evenodd;stroke:#000000;stroke-width:2.0px;stroke-linecap:butt;stroke-linejoin:miter;stroke-opacity:1\"/>\n<path class=\"bond-12 atom-12 atom-13\" d=\"M 76.2899,131.917 L 92.2776,131.917\" style=\"fill:none;fill-rule:evenodd;stroke:#000000;stroke-width:2.0px;stroke-linecap:butt;stroke-linejoin:miter;stroke-opacity:1\"/>\n<path class=\"bond-12 atom-12 atom-13\" d=\"M 92.2776,131.917 L 108.265,131.917\" style=\"fill:none;fill-rule:evenodd;stroke:#0000FF;stroke-width:2.0px;stroke-linecap:butt;stroke-linejoin:miter;stroke-opacity:1\"/>\n<path class=\"bond-12 atom-12 atom-13\" d=\"M 81.0862,124.546 L 92.2776,124.546\" style=\"fill:none;fill-rule:evenodd;stroke:#000000;stroke-width:2.0px;stroke-linecap:butt;stroke-linejoin:miter;stroke-opacity:1\"/>\n<path class=\"bond-12 atom-12 atom-13\" d=\"M 92.2776,124.546 L 103.469,124.546\" style=\"fill:none;fill-rule:evenodd;stroke:#0000FF;stroke-width:2.0px;stroke-linecap:butt;stroke-linejoin:miter;stroke-opacity:1\"/>\n<path class=\"atom-5\" d=\"M 184.548 62.8639 L 187.968 68.3922 Q 188.307 68.9376, 188.853 69.9254 Q 189.398 70.9131, 189.428 70.972 L 189.428 62.8639 L 190.813 62.8639 L 190.813 73.3013 L 189.383 73.3013 L 185.713 67.257 Q 185.285 66.5494, 184.828 65.7386 Q 184.386 64.9278, 184.253 64.6772 L 184.253 73.3013 L 182.897 73.3013 L 182.897 62.8639 L 184.548 62.8639 \" fill=\"#0000FF\"/>\n<path class=\"atom-13\" d=\"M 110.838 126.699 L 114.258 132.227 Q 114.597 132.772, 115.143 133.76 Q 115.688 134.748, 115.717 134.807 L 115.717 126.699 L 117.103 126.699 L 117.103 137.136 L 115.673 137.136 L 112.002 131.092 Q 111.575 130.384, 111.118 129.573 Q 110.676 128.763, 110.543 128.512 L 110.543 137.136 L 109.187 137.136 L 109.187 126.699 L 110.838 126.699 \" fill=\"#0000FF\"/>\n</svg>"
          },
          "metadata": {
            "tags": []
          },
          "execution_count": 17
        }
      ]
    },
    {
      "cell_type": "code",
      "metadata": {
        "colab": {
          "base_uri": "https://localhost:8080/"
        },
        "cellView": "form",
        "id": "wxDM_c-PYqGa",
        "outputId": "4023f320-4a3e-4522-88f9-f30da52f4694"
      },
      "source": [
        "#@title A closer look at the output file saved in `dsgpm` folder\n",
        "\n",
        "%shell cat $outname"
      ],
      "execution_count": null,
      "outputs": [
        {
          "output_type": "stream",
          "text": [
            "{\n",
            "    \"cgnodes\": [\n",
            "        [\n",
            "            0,\n",
            "            1,\n",
            "            2\n",
            "        ],\n",
            "        [\n",
            "            3,\n",
            "            4,\n",
            "            7,\n",
            "            8\n",
            "        ],\n",
            "        [\n",
            "            5,\n",
            "            6\n",
            "        ],\n",
            "        [\n",
            "            9,\n",
            "            10,\n",
            "            11\n",
            "        ],\n",
            "        [\n",
            "            12,\n",
            "            13\n",
            "        ]\n",
            "    ],\n",
            "    \"edges\": [\n",
            "        {\n",
            "            \"bondtype\": 1.0,\n",
            "            \"source\": 0,\n",
            "            \"target\": 1\n",
            "        },\n",
            "        {\n",
            "            \"bondtype\": 2.0,\n",
            "            \"source\": 1,\n",
            "            \"target\": 2\n",
            "        },\n",
            "        {\n",
            "            \"bondtype\": 1.0,\n",
            "            \"source\": 2,\n",
            "            \"target\": 3\n",
            "        },\n",
            "        {\n",
            "            \"bondtype\": 2.0,\n",
            "            \"source\": 3,\n",
            "            \"target\": 4\n",
            "        },\n",
            "        {\n",
            "            \"bondtype\": 1.0,\n",
            "            \"source\": 4,\n",
            "            \"target\": 5\n",
            "        },\n",
            "        {\n",
            "            \"bondtype\": 2.0,\n",
            "            \"source\": 5,\n",
            "            \"target\": 6\n",
            "        },\n",
            "        {\n",
            "            \"bondtype\": 1.0,\n",
            "            \"source\": 4,\n",
            "            \"target\": 7\n",
            "        },\n",
            "        {\n",
            "            \"bondtype\": 2.0,\n",
            "            \"source\": 7,\n",
            "            \"target\": 8\n",
            "        },\n",
            "        {\n",
            "            \"bondtype\": 1.0,\n",
            "            \"source\": 8,\n",
            "            \"target\": 9\n",
            "        },\n",
            "        {\n",
            "            \"bondtype\": 2.0,\n",
            "            \"source\": 9,\n",
            "            \"target\": 10\n",
            "        },\n",
            "        {\n",
            "            \"bondtype\": 1.0,\n",
            "            \"source\": 10,\n",
            "            \"target\": 11\n",
            "        },\n",
            "        {\n",
            "            \"bondtype\": 1.0,\n",
            "            \"source\": 10,\n",
            "            \"target\": 12\n",
            "        },\n",
            "        {\n",
            "            \"bondtype\": 2.0,\n",
            "            \"source\": 12,\n",
            "            \"target\": 13\n",
            "        },\n",
            "        {\n",
            "            \"bondtype\": 1.0,\n",
            "            \"source\": 6,\n",
            "            \"target\": 1\n",
            "        },\n",
            "        {\n",
            "            \"bondtype\": 1.0,\n",
            "            \"source\": 13,\n",
            "            \"target\": 7\n",
            "        }\n",
            "    ],\n",
            "    \"nodes\": [\n",
            "        {\n",
            "            \"cg\": 0,\n",
            "            \"element\": \"C\",\n",
            "            \"id\": 0\n",
            "        },\n",
            "        {\n",
            "            \"cg\": 0,\n",
            "            \"element\": \"C\",\n",
            "            \"id\": 1\n",
            "        },\n",
            "        {\n",
            "            \"cg\": 0,\n",
            "            \"element\": \"C\",\n",
            "            \"id\": 2\n",
            "        },\n",
            "        {\n",
            "            \"cg\": 1,\n",
            "            \"element\": \"C\",\n",
            "            \"id\": 3\n",
            "        },\n",
            "        {\n",
            "            \"cg\": 1,\n",
            "            \"element\": \"C\",\n",
            "            \"id\": 4\n",
            "        },\n",
            "        {\n",
            "            \"cg\": 2,\n",
            "            \"element\": \"N\",\n",
            "            \"id\": 5\n",
            "        },\n",
            "        {\n",
            "            \"cg\": 2,\n",
            "            \"element\": \"C\",\n",
            "            \"id\": 6\n",
            "        },\n",
            "        {\n",
            "            \"cg\": 1,\n",
            "            \"element\": \"C\",\n",
            "            \"id\": 7\n",
            "        },\n",
            "        {\n",
            "            \"cg\": 1,\n",
            "            \"element\": \"C\",\n",
            "            \"id\": 8\n",
            "        },\n",
            "        {\n",
            "            \"cg\": 3,\n",
            "            \"element\": \"C\",\n",
            "            \"id\": 9\n",
            "        },\n",
            "        {\n",
            "            \"cg\": 3,\n",
            "            \"element\": \"C\",\n",
            "            \"id\": 10\n",
            "        },\n",
            "        {\n",
            "            \"cg\": 3,\n",
            "            \"element\": \"C\",\n",
            "            \"id\": 11\n",
            "        },\n",
            "        {\n",
            "            \"cg\": 4,\n",
            "            \"element\": \"C\",\n",
            "            \"id\": 12\n",
            "        },\n",
            "        {\n",
            "            \"cg\": 4,\n",
            "            \"element\": \"N\",\n",
            "            \"id\": 13\n",
            "        }\n",
            "    ]\n",
            "}"
          ],
          "name": "stdout"
        },
        {
          "output_type": "execute_result",
          "data": {
            "text/plain": [
              ""
            ]
          },
          "metadata": {
            "tags": []
          },
          "execution_count": 6
        }
      ]
    }
  ]
}